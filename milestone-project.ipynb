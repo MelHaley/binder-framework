{
 "cells": [
  {
   "cell_type": "markdown",
   "id": "f08f8f88-6d39-4d2e-817d-f3cba032db9d",
   "metadata": {},
   "source": [
    "# Milestone Project"
   ]
  },
  {
   "cell_type": "markdown",
   "id": "5539c46d-9151-44c5-a081-80cdc1a4b96b",
   "metadata": {},
   "source": [
    "## Day 4: Pandas"
   ]
  },
  {
   "cell_type": "code",
   "execution_count": 1,
   "id": "d8b4bbaf-5751-497f-ad10-e1373f3e679c",
   "metadata": {
    "tags": []
   },
   "outputs": [],
   "source": [
    "# import packages\n",
    "import numpy as np\n",
    "import pandas as pd"
   ]
  },
  {
   "cell_type": "code",
   "execution_count": 2,
   "id": "2194fc1b-be81-4f79-9e73-ec91eb3719ef",
   "metadata": {},
   "outputs": [],
   "source": [
    "# import data set\n",
    "data_raw = pd.read_csv('Value_of_Energy_Cost_Savings_Program_Savings_for_Businesses_-_FY2020.csv')\n",
    "data = data_raw.copy()"
   ]
  },
  {
   "cell_type": "markdown",
   "id": "6a3c3705-e444-46e5-974b-42b273c96a70",
   "metadata": {},
   "source": [
    "### 1. How many different companies are represented in the data set?"
   ]
  },
  {
   "cell_type": "code",
   "execution_count": 3,
   "id": "2babb7ec-01e4-4ceb-893a-2960dd3b4e20",
   "metadata": {},
   "outputs": [
    {
     "name": "stdout",
     "output_type": "stream",
     "text": [
      "There are 439 different companies represented in the data set.\n"
     ]
    }
   ],
   "source": [
    "# get the number of unique values in the 'Company Name' column\n",
    "companies = data['Company Name'].unique().shape[0]\n",
    "print(f\"There are {companies} different companies represented in the data set.\")"
   ]
  },
  {
   "cell_type": "markdown",
   "id": "082769fc-5194-4f31-a5c3-2aab17896c52",
   "metadata": {},
   "source": [
    "### 2. What is the total number of jobs created for businesses in Queens?"
   ]
  },
  {
   "cell_type": "code",
   "execution_count": 4,
   "id": "4a0e7bd4-e8b2-4f85-91e2-07dca3e94b5e",
   "metadata": {},
   "outputs": [
    {
     "name": "stdout",
     "output_type": "stream",
     "text": [
      "There was a total of 102 jobs created for businesses in Queens.\n"
     ]
    }
   ],
   "source": [
    "# filter by borough and sum to get total jobs created\n",
    "queens = data[data['Borough'] == 'Queens']\n",
    "print(f\"There was a total of {int(queens['Job created'].sum())} jobs created for businesses in Queens.\")"
   ]
  },
  {
   "cell_type": "markdown",
   "id": "01b802e9-61e6-48a9-bf44-26f34087bd5e",
   "metadata": {},
   "source": [
    "### 3. How many different unique email domains are there in the data set?"
   ]
  },
  {
   "cell_type": "code",
   "execution_count": 5,
   "id": "8d19d678-84c5-4707-9498-4da6abd04ba0",
   "metadata": {},
   "outputs": [
    {
     "name": "stdout",
     "output_type": "stream",
     "text": [
      "There are 356 different unique email domains in the data set.\n"
     ]
    }
   ],
   "source": [
    "# drop NaN, split string in 'company email' column to get domain name, then get count of domains\n",
    "data.dropna(inplace=True, subset=['company email'])\n",
    "emails = pd.DataFrame\n",
    "emails = data['company email'].str.rsplit(pat='@', expand=True)\n",
    "data['domain'] = emails[1]\n",
    "domains = data['domain'].value_counts().shape[0]\n",
    "print(f\"There are {domains} different unique email domains in the data set.\")"
   ]
  },
  {
   "cell_type": "markdown",
   "id": "50658947-1b17-4d72-8edc-95eb0d4be58d",
   "metadata": {},
   "source": [
    "### 4. Considering only NTAs with at least 5 listed businesses, what is the average total savings and the total jobs created for each NTA?"
   ]
  },
  {
   "cell_type": "code",
   "execution_count": 6,
   "id": "069a8049-5f33-49ce-ad41-4f7aba128f5b",
   "metadata": {},
   "outputs": [
    {
     "name": "stdout",
     "output_type": "stream",
     "text": [
      "The average total savings and total jobs created for each NTA with at least 5 listed businesses is:\n"
     ]
    },
    {
     "data": {
      "text/html": [
       "<div>\n",
       "<style scoped>\n",
       "    .dataframe tbody tr th:only-of-type {\n",
       "        vertical-align: middle;\n",
       "    }\n",
       "\n",
       "    .dataframe tbody tr th {\n",
       "        vertical-align: top;\n",
       "    }\n",
       "\n",
       "    .dataframe thead th {\n",
       "        text-align: right;\n",
       "    }\n",
       "</style>\n",
       "<table border=\"1\" class=\"dataframe\">\n",
       "  <thead>\n",
       "    <tr style=\"text-align: right;\">\n",
       "      <th></th>\n",
       "      <th>Total Savings</th>\n",
       "      <th>Job created</th>\n",
       "    </tr>\n",
       "    <tr>\n",
       "      <th>NTA</th>\n",
       "      <th></th>\n",
       "      <th></th>\n",
       "    </tr>\n",
       "  </thead>\n",
       "  <tbody>\n",
       "    <tr>\n",
       "      <th>Bushwick South</th>\n",
       "      <td>26140</td>\n",
       "      <td>10</td>\n",
       "    </tr>\n",
       "    <tr>\n",
       "      <th>Carroll Gardens-Columbia Street-Red Hook</th>\n",
       "      <td>24337</td>\n",
       "      <td>0</td>\n",
       "    </tr>\n",
       "    <tr>\n",
       "      <th>College Point</th>\n",
       "      <td>17159</td>\n",
       "      <td>2</td>\n",
       "    </tr>\n",
       "    <tr>\n",
       "      <th>Crown Heights North</th>\n",
       "      <td>4036</td>\n",
       "      <td>0</td>\n",
       "    </tr>\n",
       "    <tr>\n",
       "      <th>DUMBO-Vinegar Hill-Downtown Brooklyn-Boerum Hill</th>\n",
       "      <td>63639</td>\n",
       "      <td>0</td>\n",
       "    </tr>\n",
       "    <tr>\n",
       "      <th>East New York</th>\n",
       "      <td>53156</td>\n",
       "      <td>0</td>\n",
       "    </tr>\n",
       "    <tr>\n",
       "      <th>East Williamsburg</th>\n",
       "      <td>13990</td>\n",
       "      <td>0</td>\n",
       "    </tr>\n",
       "    <tr>\n",
       "      <th>Greenpoint</th>\n",
       "      <td>9753</td>\n",
       "      <td>0</td>\n",
       "    </tr>\n",
       "    <tr>\n",
       "      <th>Hunters Point-Sunnyside-West Maspeth</th>\n",
       "      <td>23931</td>\n",
       "      <td>0</td>\n",
       "    </tr>\n",
       "    <tr>\n",
       "      <th>Hunts Point</th>\n",
       "      <td>42330</td>\n",
       "      <td>12</td>\n",
       "    </tr>\n",
       "    <tr>\n",
       "      <th>Manhattanville</th>\n",
       "      <td>2760</td>\n",
       "      <td>0</td>\n",
       "    </tr>\n",
       "    <tr>\n",
       "      <th>Maspeth</th>\n",
       "      <td>6658</td>\n",
       "      <td>10</td>\n",
       "    </tr>\n",
       "    <tr>\n",
       "      <th>Mott Haven-Port Morris</th>\n",
       "      <td>17843</td>\n",
       "      <td>10</td>\n",
       "    </tr>\n",
       "    <tr>\n",
       "      <th>Queensbridge-Ravenswood-Long Island City</th>\n",
       "      <td>61830</td>\n",
       "      <td>0</td>\n",
       "    </tr>\n",
       "    <tr>\n",
       "      <th>Springfield Gardens South-Brookville</th>\n",
       "      <td>17757</td>\n",
       "      <td>0</td>\n",
       "    </tr>\n",
       "    <tr>\n",
       "      <th>Steinway</th>\n",
       "      <td>11227</td>\n",
       "      <td>20</td>\n",
       "    </tr>\n",
       "    <tr>\n",
       "      <th>Sunset Park West</th>\n",
       "      <td>14622</td>\n",
       "      <td>0</td>\n",
       "    </tr>\n",
       "    <tr>\n",
       "      <th>park-cemetery-etc-Brooklyn</th>\n",
       "      <td>14327</td>\n",
       "      <td>0</td>\n",
       "    </tr>\n",
       "  </tbody>\n",
       "</table>\n",
       "</div>"
      ],
      "text/plain": [
       "                                                  Total Savings  Job created\n",
       "NTA                                                                         \n",
       "Bushwick South                                            26140           10\n",
       "Carroll Gardens-Columbia Street-Red Hook                  24337            0\n",
       "College Point                                             17159            2\n",
       "Crown Heights North                                        4036            0\n",
       "DUMBO-Vinegar Hill-Downtown Brooklyn-Boerum Hill          63639            0\n",
       "East New York                                             53156            0\n",
       "East Williamsburg                                         13990            0\n",
       "Greenpoint                                                 9753            0\n",
       "Hunters Point-Sunnyside-West Maspeth                      23931            0\n",
       "Hunts Point                                               42330           12\n",
       "Manhattanville                                             2760            0\n",
       "Maspeth                                                    6658           10\n",
       "Mott Haven-Port Morris                                    17843           10\n",
       "Queensbridge-Ravenswood-Long Island City                  61830            0\n",
       "Springfield Gardens South-Brookville                      17757            0\n",
       "Steinway                                                  11227           20\n",
       "Sunset Park West                                          14622            0\n",
       "park-cemetery-etc-Brooklyn                                14327            0"
      ]
     },
     "execution_count": 6,
     "metadata": {},
     "output_type": "execute_result"
    }
   ],
   "source": [
    "# drop NaN, filter NTAs with at least 5 listed businesses. find average savings and total jobs\n",
    "data.dropna(inplace=True, subset='NTA')\n",
    "new_group = data.groupby(data['NTA']).filter(lambda x: len(x) >= 5)\n",
    "avg_savings = new_group['Total Savings'].groupby(new_group['NTA']).mean()\n",
    "jobs = new_group['Job created'].groupby(new_group['NTA']).sum()\n",
    "nta_data = pd.concat([avg_savings, jobs], axis=1)\n",
    "nta_data = nta_data.astype('int')\n",
    "print(\"The average total savings and total jobs created for each NTA with at least 5 listed businesses is:\")\n",
    "nta_data"
   ]
  },
  {
   "cell_type": "markdown",
   "id": "5344c374-48b1-496a-a2a3-c78b9754cffc",
   "metadata": {},
   "source": [
    "### 5. Save result for previous question as a CSV file."
   ]
  },
  {
   "cell_type": "code",
   "execution_count": 7,
   "id": "f8aa9c6a-6ad2-446d-9f52-2a8ecb81b2eb",
   "metadata": {},
   "outputs": [],
   "source": [
    "nta_data.to_csv('NTA-data.csv')\n"
   ]
  },
  {
   "cell_type": "markdown",
   "id": "299d72c5-85ef-42ce-a119-b95343a6affd",
   "metadata": {},
   "source": [
    "## Day 5: Plotting"
   ]
  },
  {
   "cell_type": "code",
   "execution_count": 8,
   "id": "4c37582d-e3cc-4d3e-802e-cfb30cdbf958",
   "metadata": {},
   "outputs": [],
   "source": [
    "# import packages\n",
    "import altair as alt"
   ]
  },
  {
   "cell_type": "code",
   "execution_count": 9,
   "id": "8d2e3f10-c5ef-49ad-9308-6088556efb72",
   "metadata": {},
   "outputs": [],
   "source": [
    "plot_data = pd.read_csv('NTA-data.csv')"
   ]
  },
  {
   "cell_type": "markdown",
   "id": "6e90ef31-743f-4edd-8b9c-d3d69e6199c5",
   "metadata": {},
   "source": [
    "### 1. Create a scatterplot of jobs created versus average savings.  Use both a standard and log scale for average savings"
   ]
  },
  {
   "cell_type": "code",
   "execution_count": 10,
   "id": "a0b04adf-ab6c-4fda-b8c4-1ed725922521",
   "metadata": {},
   "outputs": [
    {
     "data": {
      "text/html": [
       "\n",
       "<div id=\"altair-viz-b1f6481454a44ec8a23ff2dcdeb140f1\"></div>\n",
       "<script type=\"text/javascript\">\n",
       "  (function(spec, embedOpt){\n",
       "    let outputDiv = document.currentScript.previousElementSibling;\n",
       "    if (outputDiv.id !== \"altair-viz-b1f6481454a44ec8a23ff2dcdeb140f1\") {\n",
       "      outputDiv = document.getElementById(\"altair-viz-b1f6481454a44ec8a23ff2dcdeb140f1\");\n",
       "    }\n",
       "    const paths = {\n",
       "      \"vega\": \"https://cdn.jsdelivr.net/npm//vega@5?noext\",\n",
       "      \"vega-lib\": \"https://cdn.jsdelivr.net/npm//vega-lib?noext\",\n",
       "      \"vega-lite\": \"https://cdn.jsdelivr.net/npm//vega-lite@4.8.1?noext\",\n",
       "      \"vega-embed\": \"https://cdn.jsdelivr.net/npm//vega-embed@6?noext\",\n",
       "    };\n",
       "\n",
       "    function loadScript(lib) {\n",
       "      return new Promise(function(resolve, reject) {\n",
       "        var s = document.createElement('script');\n",
       "        s.src = paths[lib];\n",
       "        s.async = true;\n",
       "        s.onload = () => resolve(paths[lib]);\n",
       "        s.onerror = () => reject(`Error loading script: ${paths[lib]}`);\n",
       "        document.getElementsByTagName(\"head\")[0].appendChild(s);\n",
       "      });\n",
       "    }\n",
       "\n",
       "    function showError(err) {\n",
       "      outputDiv.innerHTML = `<div class=\"error\" style=\"color:red;\">${err}</div>`;\n",
       "      throw err;\n",
       "    }\n",
       "\n",
       "    function displayChart(vegaEmbed) {\n",
       "      vegaEmbed(outputDiv, spec, embedOpt)\n",
       "        .catch(err => showError(`Javascript Error: ${err.message}<br>This usually means there's a typo in your chart specification. See the javascript console for the full traceback.`));\n",
       "    }\n",
       "\n",
       "    if(typeof define === \"function\" && define.amd) {\n",
       "      requirejs.config({paths});\n",
       "      require([\"vega-embed\"], displayChart, err => showError(`Error loading script: ${err.message}`));\n",
       "    } else if (typeof vegaEmbed === \"function\") {\n",
       "      displayChart(vegaEmbed);\n",
       "    } else {\n",
       "      loadScript(\"vega\")\n",
       "        .then(() => loadScript(\"vega-lite\"))\n",
       "        .then(() => loadScript(\"vega-embed\"))\n",
       "        .catch(showError)\n",
       "        .then(() => displayChart(vegaEmbed));\n",
       "    }\n",
       "  })({\"config\": {\"view\": {\"continuousWidth\": 400, \"continuousHeight\": 300}}, \"data\": {\"name\": \"data-84dd2b03a72df6e54ff796cde6955b49\"}, \"mark\": \"point\", \"encoding\": {\"color\": {\"type\": \"nominal\", \"field\": \"NTA\"}, \"x\": {\"type\": \"quantitative\", \"field\": \"Job created\"}, \"y\": {\"type\": \"quantitative\", \"field\": \"Total Savings\"}}, \"title\": \"Jobs created vs. average savings\", \"$schema\": \"https://vega.github.io/schema/vega-lite/v4.8.1.json\", \"datasets\": {\"data-84dd2b03a72df6e54ff796cde6955b49\": [{\"NTA\": \"Bushwick South\", \"Total Savings\": 26140, \"Job created\": 10}, {\"NTA\": \"Carroll Gardens-Columbia Street-Red Hook\", \"Total Savings\": 24337, \"Job created\": 0}, {\"NTA\": \"College Point\", \"Total Savings\": 17159, \"Job created\": 2}, {\"NTA\": \"Crown Heights North\", \"Total Savings\": 4036, \"Job created\": 0}, {\"NTA\": \"DUMBO-Vinegar Hill-Downtown Brooklyn-Boerum Hill\", \"Total Savings\": 63639, \"Job created\": 0}, {\"NTA\": \"East New York\", \"Total Savings\": 53156, \"Job created\": 0}, {\"NTA\": \"East Williamsburg\", \"Total Savings\": 13990, \"Job created\": 0}, {\"NTA\": \"Greenpoint\", \"Total Savings\": 9753, \"Job created\": 0}, {\"NTA\": \"Hunters Point-Sunnyside-West Maspeth\", \"Total Savings\": 23931, \"Job created\": 0}, {\"NTA\": \"Hunts Point\", \"Total Savings\": 42330, \"Job created\": 12}, {\"NTA\": \"Manhattanville\", \"Total Savings\": 2760, \"Job created\": 0}, {\"NTA\": \"Maspeth\", \"Total Savings\": 6658, \"Job created\": 10}, {\"NTA\": \"Mott Haven-Port Morris\", \"Total Savings\": 17843, \"Job created\": 10}, {\"NTA\": \"Queensbridge-Ravenswood-Long Island City\", \"Total Savings\": 61830, \"Job created\": 0}, {\"NTA\": \"Springfield Gardens South-Brookville\", \"Total Savings\": 17757, \"Job created\": 0}, {\"NTA\": \"Steinway\", \"Total Savings\": 11227, \"Job created\": 20}, {\"NTA\": \"Sunset Park West\", \"Total Savings\": 14622, \"Job created\": 0}, {\"NTA\": \"park-cemetery-etc-Brooklyn\", \"Total Savings\": 14327, \"Job created\": 0}]}}, {\"mode\": \"vega-lite\"});\n",
       "</script>"
      ],
      "text/plain": [
       "alt.Chart(...)"
      ]
     },
     "execution_count": 10,
     "metadata": {},
     "output_type": "execute_result"
    }
   ],
   "source": [
    "# standard scale\n",
    "alt.Chart(plot_data, title=\"Jobs created vs. average savings\").mark_point().encode(\n",
    "    x='Job created', \n",
    "    y='Total Savings',\n",
    "    color = 'NTA'\n",
    ")"
   ]
  },
  {
   "cell_type": "code",
   "execution_count": 11,
   "id": "edee27c8-f3d3-44ba-b06b-c25e7db237f3",
   "metadata": {},
   "outputs": [
    {
     "data": {
      "text/html": [
       "\n",
       "<div id=\"altair-viz-56455b56cef64c32b5978d4155107267\"></div>\n",
       "<script type=\"text/javascript\">\n",
       "  (function(spec, embedOpt){\n",
       "    let outputDiv = document.currentScript.previousElementSibling;\n",
       "    if (outputDiv.id !== \"altair-viz-56455b56cef64c32b5978d4155107267\") {\n",
       "      outputDiv = document.getElementById(\"altair-viz-56455b56cef64c32b5978d4155107267\");\n",
       "    }\n",
       "    const paths = {\n",
       "      \"vega\": \"https://cdn.jsdelivr.net/npm//vega@5?noext\",\n",
       "      \"vega-lib\": \"https://cdn.jsdelivr.net/npm//vega-lib?noext\",\n",
       "      \"vega-lite\": \"https://cdn.jsdelivr.net/npm//vega-lite@4.8.1?noext\",\n",
       "      \"vega-embed\": \"https://cdn.jsdelivr.net/npm//vega-embed@6?noext\",\n",
       "    };\n",
       "\n",
       "    function loadScript(lib) {\n",
       "      return new Promise(function(resolve, reject) {\n",
       "        var s = document.createElement('script');\n",
       "        s.src = paths[lib];\n",
       "        s.async = true;\n",
       "        s.onload = () => resolve(paths[lib]);\n",
       "        s.onerror = () => reject(`Error loading script: ${paths[lib]}`);\n",
       "        document.getElementsByTagName(\"head\")[0].appendChild(s);\n",
       "      });\n",
       "    }\n",
       "\n",
       "    function showError(err) {\n",
       "      outputDiv.innerHTML = `<div class=\"error\" style=\"color:red;\">${err}</div>`;\n",
       "      throw err;\n",
       "    }\n",
       "\n",
       "    function displayChart(vegaEmbed) {\n",
       "      vegaEmbed(outputDiv, spec, embedOpt)\n",
       "        .catch(err => showError(`Javascript Error: ${err.message}<br>This usually means there's a typo in your chart specification. See the javascript console for the full traceback.`));\n",
       "    }\n",
       "\n",
       "    if(typeof define === \"function\" && define.amd) {\n",
       "      requirejs.config({paths});\n",
       "      require([\"vega-embed\"], displayChart, err => showError(`Error loading script: ${err.message}`));\n",
       "    } else if (typeof vegaEmbed === \"function\") {\n",
       "      displayChart(vegaEmbed);\n",
       "    } else {\n",
       "      loadScript(\"vega\")\n",
       "        .then(() => loadScript(\"vega-lite\"))\n",
       "        .then(() => loadScript(\"vega-embed\"))\n",
       "        .catch(showError)\n",
       "        .then(() => displayChart(vegaEmbed));\n",
       "    }\n",
       "  })({\"config\": {\"view\": {\"continuousWidth\": 400, \"continuousHeight\": 300}}, \"data\": {\"name\": \"data-84dd2b03a72df6e54ff796cde6955b49\"}, \"mark\": \"point\", \"encoding\": {\"color\": {\"type\": \"nominal\", \"field\": \"NTA\"}, \"tooltip\": [{\"type\": \"nominal\", \"field\": \"NTA\"}, {\"type\": \"quantitative\", \"field\": \"Total Savings\"}], \"x\": {\"type\": \"quantitative\", \"field\": \"Job created\"}, \"y\": {\"type\": \"quantitative\", \"field\": \"Total Savings\", \"scale\": {\"type\": \"log\"}}}, \"title\": \"Jobs created vs. average savings (log)\", \"$schema\": \"https://vega.github.io/schema/vega-lite/v4.8.1.json\", \"datasets\": {\"data-84dd2b03a72df6e54ff796cde6955b49\": [{\"NTA\": \"Bushwick South\", \"Total Savings\": 26140, \"Job created\": 10}, {\"NTA\": \"Carroll Gardens-Columbia Street-Red Hook\", \"Total Savings\": 24337, \"Job created\": 0}, {\"NTA\": \"College Point\", \"Total Savings\": 17159, \"Job created\": 2}, {\"NTA\": \"Crown Heights North\", \"Total Savings\": 4036, \"Job created\": 0}, {\"NTA\": \"DUMBO-Vinegar Hill-Downtown Brooklyn-Boerum Hill\", \"Total Savings\": 63639, \"Job created\": 0}, {\"NTA\": \"East New York\", \"Total Savings\": 53156, \"Job created\": 0}, {\"NTA\": \"East Williamsburg\", \"Total Savings\": 13990, \"Job created\": 0}, {\"NTA\": \"Greenpoint\", \"Total Savings\": 9753, \"Job created\": 0}, {\"NTA\": \"Hunters Point-Sunnyside-West Maspeth\", \"Total Savings\": 23931, \"Job created\": 0}, {\"NTA\": \"Hunts Point\", \"Total Savings\": 42330, \"Job created\": 12}, {\"NTA\": \"Manhattanville\", \"Total Savings\": 2760, \"Job created\": 0}, {\"NTA\": \"Maspeth\", \"Total Savings\": 6658, \"Job created\": 10}, {\"NTA\": \"Mott Haven-Port Morris\", \"Total Savings\": 17843, \"Job created\": 10}, {\"NTA\": \"Queensbridge-Ravenswood-Long Island City\", \"Total Savings\": 61830, \"Job created\": 0}, {\"NTA\": \"Springfield Gardens South-Brookville\", \"Total Savings\": 17757, \"Job created\": 0}, {\"NTA\": \"Steinway\", \"Total Savings\": 11227, \"Job created\": 20}, {\"NTA\": \"Sunset Park West\", \"Total Savings\": 14622, \"Job created\": 0}, {\"NTA\": \"park-cemetery-etc-Brooklyn\", \"Total Savings\": 14327, \"Job created\": 0}]}}, {\"mode\": \"vega-lite\"});\n",
       "</script>"
      ],
      "text/plain": [
       "alt.Chart(...)"
      ]
     },
     "execution_count": 11,
     "metadata": {},
     "output_type": "execute_result"
    }
   ],
   "source": [
    "# logarithmic scale\n",
    "alt.Chart(plot_data, title=\"Jobs created vs. average savings (log)\").mark_point().encode(\n",
    "    x='Job created', \n",
    "    y=alt.Y('Total Savings',\n",
    "            scale=alt.Scale(type='log')),\n",
    "    color = 'NTA',\n",
    "    tooltip = ['NTA', 'Total Savings']\n",
    ")\n"
   ]
  },
  {
   "cell_type": "markdown",
   "id": "1e631e65-dc10-4480-b461-f14b1e0ff827",
   "metadata": {},
   "source": [
    "### 2. Create a histogram of the log of the average total savings."
   ]
  },
  {
   "cell_type": "code",
   "execution_count": 12,
   "id": "5f5cadda-cd04-4d14-8728-d9432f84fee9",
   "metadata": {},
   "outputs": [
    {
     "data": {
      "text/html": [
       "\n",
       "<div id=\"altair-viz-d466d8bd3da4415696ff1e5c51817ff7\"></div>\n",
       "<script type=\"text/javascript\">\n",
       "  (function(spec, embedOpt){\n",
       "    let outputDiv = document.currentScript.previousElementSibling;\n",
       "    if (outputDiv.id !== \"altair-viz-d466d8bd3da4415696ff1e5c51817ff7\") {\n",
       "      outputDiv = document.getElementById(\"altair-viz-d466d8bd3da4415696ff1e5c51817ff7\");\n",
       "    }\n",
       "    const paths = {\n",
       "      \"vega\": \"https://cdn.jsdelivr.net/npm//vega@5?noext\",\n",
       "      \"vega-lib\": \"https://cdn.jsdelivr.net/npm//vega-lib?noext\",\n",
       "      \"vega-lite\": \"https://cdn.jsdelivr.net/npm//vega-lite@4.8.1?noext\",\n",
       "      \"vega-embed\": \"https://cdn.jsdelivr.net/npm//vega-embed@6?noext\",\n",
       "    };\n",
       "\n",
       "    function loadScript(lib) {\n",
       "      return new Promise(function(resolve, reject) {\n",
       "        var s = document.createElement('script');\n",
       "        s.src = paths[lib];\n",
       "        s.async = true;\n",
       "        s.onload = () => resolve(paths[lib]);\n",
       "        s.onerror = () => reject(`Error loading script: ${paths[lib]}`);\n",
       "        document.getElementsByTagName(\"head\")[0].appendChild(s);\n",
       "      });\n",
       "    }\n",
       "\n",
       "    function showError(err) {\n",
       "      outputDiv.innerHTML = `<div class=\"error\" style=\"color:red;\">${err}</div>`;\n",
       "      throw err;\n",
       "    }\n",
       "\n",
       "    function displayChart(vegaEmbed) {\n",
       "      vegaEmbed(outputDiv, spec, embedOpt)\n",
       "        .catch(err => showError(`Javascript Error: ${err.message}<br>This usually means there's a typo in your chart specification. See the javascript console for the full traceback.`));\n",
       "    }\n",
       "\n",
       "    if(typeof define === \"function\" && define.amd) {\n",
       "      requirejs.config({paths});\n",
       "      require([\"vega-embed\"], displayChart, err => showError(`Error loading script: ${err.message}`));\n",
       "    } else if (typeof vegaEmbed === \"function\") {\n",
       "      displayChart(vegaEmbed);\n",
       "    } else {\n",
       "      loadScript(\"vega\")\n",
       "        .then(() => loadScript(\"vega-lite\"))\n",
       "        .then(() => loadScript(\"vega-embed\"))\n",
       "        .catch(showError)\n",
       "        .then(() => displayChart(vegaEmbed));\n",
       "    }\n",
       "  })({\"config\": {\"view\": {\"continuousWidth\": 400, \"continuousHeight\": 300}}, \"data\": {\"name\": \"data-af813a53af97ebbbb2c8f4215120cbc0\"}, \"mark\": \"bar\", \"encoding\": {\"x\": {\"type\": \"quantitative\", \"bin\": {\"maxbins\": 10}, \"field\": \"log_avg_savings\"}, \"y\": {\"type\": \"quantitative\", \"aggregate\": \"count\"}}, \"title\": \"Average total savings (log) histogram\", \"$schema\": \"https://vega.github.io/schema/vega-lite/v4.8.1.json\", \"datasets\": {\"data-af813a53af97ebbbb2c8f4215120cbc0\": [{\"NTA\": \"Bushwick South\", \"Total Savings\": 26140, \"Job created\": 10, \"log_avg_savings\": 10.171221987178212}, {\"NTA\": \"Carroll Gardens-Columbia Street-Red Hook\", \"Total Savings\": 24337, \"Job created\": 0, \"log_avg_savings\": 10.099753105042092}, {\"NTA\": \"College Point\", \"Total Savings\": 17159, \"Job created\": 2, \"log_avg_savings\": 9.750278096285621}, {\"NTA\": \"Crown Heights North\", \"Total Savings\": 4036, \"Job created\": 0, \"log_avg_savings\": 8.3030093814735}, {\"NTA\": \"DUMBO-Vinegar Hill-Downtown Brooklyn-Boerum Hill\", \"Total Savings\": 63639, \"Job created\": 0, \"log_avg_savings\": 11.06098176894046}, {\"NTA\": \"East New York\", \"Total Savings\": 53156, \"Job created\": 0, \"log_avg_savings\": 10.880986265451398}, {\"NTA\": \"East Williamsburg\", \"Total Savings\": 13990, \"Job created\": 0, \"log_avg_savings\": 9.546098067659527}, {\"NTA\": \"Greenpoint\", \"Total Savings\": 9753, \"Job created\": 0, \"log_avg_savings\": 9.185330208972015}, {\"NTA\": \"Hunters Point-Sunnyside-West Maspeth\", \"Total Savings\": 23931, \"Job created\": 0, \"log_avg_savings\": 10.08292996857924}, {\"NTA\": \"Hunts Point\", \"Total Savings\": 42330, \"Job created\": 12, \"log_avg_savings\": 10.65325133351497}, {\"NTA\": \"Manhattanville\", \"Total Savings\": 2760, \"Job created\": 0, \"log_avg_savings\": 7.9229859587111955}, {\"NTA\": \"Maspeth\", \"Total Savings\": 6658, \"Job created\": 10, \"log_avg_savings\": 8.80357441813497}, {\"NTA\": \"Mott Haven-Port Morris\", \"Total Savings\": 17843, \"Job created\": 10, \"log_avg_savings\": 9.789366553431428}, {\"NTA\": \"Queensbridge-Ravenswood-Long Island City\", \"Total Savings\": 61830, \"Job created\": 0, \"log_avg_savings\": 11.032143962552615}, {\"NTA\": \"Springfield Gardens South-Brookville\", \"Total Savings\": 17757, \"Job created\": 0, \"log_avg_savings\": 9.784535083358834}, {\"NTA\": \"Steinway\", \"Total Savings\": 11227, \"Job created\": 20, \"log_avg_savings\": 9.32607687045878}, {\"NTA\": \"Sunset Park West\", \"Total Savings\": 14622, \"Job created\": 0, \"log_avg_savings\": 9.590282522853261}, {\"NTA\": \"park-cemetery-etc-Brooklyn\", \"Total Savings\": 14327, \"Job created\": 0, \"log_avg_savings\": 9.569901147893372}]}}, {\"mode\": \"vega-lite\"});\n",
       "</script>"
      ],
      "text/plain": [
       "alt.Chart(...)"
      ]
     },
     "execution_count": 12,
     "metadata": {},
     "output_type": "execute_result"
    }
   ],
   "source": [
    "plot_data['log_avg_savings'] = np.log(plot_data['Total Savings'])\n",
    "alt.Chart(plot_data, title=\"Average total savings (log) histogram\").mark_bar().encode(\n",
    "    x = alt.X('log_avg_savings', bin = alt.BinParams(maxbins = 10)),\n",
    "    y = 'count()'\n",
    ")\n",
    "\n"
   ]
  },
  {
   "cell_type": "markdown",
   "id": "46800d20-ac15-4fe3-a211-c4639d018a8c",
   "metadata": {},
   "source": [
    "### 3. Create a line plot of the total jobs created for each month."
   ]
  },
  {
   "cell_type": "code",
   "execution_count": 13,
   "id": "750653d3-b228-407d-8ba3-5ea50480a1dc",
   "metadata": {},
   "outputs": [],
   "source": [
    "# get data for total jobs created by month\n",
    "data['Date'] = pd.to_datetime(data['Effective Date'])\n",
    "months = pd.Series({1:'Jan', 2:'Feb', 3:'Mar', 4:'Apr', 5:'May', 6:'Jun', 7:'Jul', 8:'Aug', 9:'Sept', 10:'Oct', 11:'Nov', 12:'Dec'}, name='Month')\n",
    "per_month = pd.concat([data['Job created'].groupby([data['Date'].dt.month]).sum(), months], axis=1) \n"
   ]
  },
  {
   "cell_type": "code",
   "execution_count": 14,
   "id": "f3c05e11-06c9-4bf4-9cba-cc206265e4c5",
   "metadata": {},
   "outputs": [
    {
     "data": {
      "text/html": [
       "\n",
       "<div id=\"altair-viz-4719ce54550c4e17915989606e485b59\"></div>\n",
       "<script type=\"text/javascript\">\n",
       "  (function(spec, embedOpt){\n",
       "    let outputDiv = document.currentScript.previousElementSibling;\n",
       "    if (outputDiv.id !== \"altair-viz-4719ce54550c4e17915989606e485b59\") {\n",
       "      outputDiv = document.getElementById(\"altair-viz-4719ce54550c4e17915989606e485b59\");\n",
       "    }\n",
       "    const paths = {\n",
       "      \"vega\": \"https://cdn.jsdelivr.net/npm//vega@5?noext\",\n",
       "      \"vega-lib\": \"https://cdn.jsdelivr.net/npm//vega-lib?noext\",\n",
       "      \"vega-lite\": \"https://cdn.jsdelivr.net/npm//vega-lite@4.8.1?noext\",\n",
       "      \"vega-embed\": \"https://cdn.jsdelivr.net/npm//vega-embed@6?noext\",\n",
       "    };\n",
       "\n",
       "    function loadScript(lib) {\n",
       "      return new Promise(function(resolve, reject) {\n",
       "        var s = document.createElement('script');\n",
       "        s.src = paths[lib];\n",
       "        s.async = true;\n",
       "        s.onload = () => resolve(paths[lib]);\n",
       "        s.onerror = () => reject(`Error loading script: ${paths[lib]}`);\n",
       "        document.getElementsByTagName(\"head\")[0].appendChild(s);\n",
       "      });\n",
       "    }\n",
       "\n",
       "    function showError(err) {\n",
       "      outputDiv.innerHTML = `<div class=\"error\" style=\"color:red;\">${err}</div>`;\n",
       "      throw err;\n",
       "    }\n",
       "\n",
       "    function displayChart(vegaEmbed) {\n",
       "      vegaEmbed(outputDiv, spec, embedOpt)\n",
       "        .catch(err => showError(`Javascript Error: ${err.message}<br>This usually means there's a typo in your chart specification. See the javascript console for the full traceback.`));\n",
       "    }\n",
       "\n",
       "    if(typeof define === \"function\" && define.amd) {\n",
       "      requirejs.config({paths});\n",
       "      require([\"vega-embed\"], displayChart, err => showError(`Error loading script: ${err.message}`));\n",
       "    } else if (typeof vegaEmbed === \"function\") {\n",
       "      displayChart(vegaEmbed);\n",
       "    } else {\n",
       "      loadScript(\"vega\")\n",
       "        .then(() => loadScript(\"vega-lite\"))\n",
       "        .then(() => loadScript(\"vega-embed\"))\n",
       "        .catch(showError)\n",
       "        .then(() => displayChart(vegaEmbed));\n",
       "    }\n",
       "  })({\"config\": {\"view\": {\"continuousWidth\": 400, \"continuousHeight\": 300}}, \"data\": {\"name\": \"data-563aacd3be768121c52a458a417e565d\"}, \"mark\": \"line\", \"encoding\": {\"order\": {\"type\": \"quantitative\", \"field\": \"index\"}, \"x\": {\"type\": \"ordinal\", \"field\": \"Month\", \"sort\": null}, \"y\": {\"type\": \"quantitative\", \"field\": \"Job created\"}}, \"height\": 200, \"title\": \"Total jobs created by month\", \"width\": 400, \"$schema\": \"https://vega.github.io/schema/vega-lite/v4.8.1.json\", \"datasets\": {\"data-563aacd3be768121c52a458a417e565d\": [{\"index\": 1, \"Job created\": 0.0, \"Month\": \"Jan\"}, {\"index\": 2, \"Job created\": 12.0, \"Month\": \"Feb\"}, {\"index\": 3, \"Job created\": 20.0, \"Month\": \"Mar\"}, {\"index\": 4, \"Job created\": 2.0, \"Month\": \"Apr\"}, {\"index\": 5, \"Job created\": 2.0, \"Month\": \"May\"}, {\"index\": 6, \"Job created\": 3.0, \"Month\": \"Jun\"}, {\"index\": 7, \"Job created\": 20.0, \"Month\": \"Jul\"}, {\"index\": 8, \"Job created\": 0.0, \"Month\": \"Aug\"}, {\"index\": 9, \"Job created\": 0.0, \"Month\": \"Sept\"}, {\"index\": 10, \"Job created\": 0.0, \"Month\": \"Oct\"}, {\"index\": 11, \"Job created\": 5.0, \"Month\": \"Nov\"}, {\"index\": 12, \"Job created\": 10.0, \"Month\": \"Dec\"}]}}, {\"mode\": \"vega-lite\"});\n",
       "</script>"
      ],
      "text/plain": [
       "alt.Chart(...)"
      ]
     },
     "execution_count": 14,
     "metadata": {},
     "output_type": "execute_result"
    }
   ],
   "source": [
    "alt.Chart(per_month.reset_index(), title=\"Total jobs created by month\").mark_line().encode(\n",
    "    x = alt.X('Month:O', sort=None),\n",
    "    y = 'Job created:Q',\n",
    "    order='index'\n",
    ").properties(\n",
    "    width=400,\n",
    "    height=200\n",
    ")"
   ]
  },
  {
   "cell_type": "code",
   "execution_count": null,
   "id": "cf15e300-07ec-41fe-ac5c-01bbc051b969",
   "metadata": {},
   "outputs": [],
   "source": []
  },
  {
   "cell_type": "code",
   "execution_count": null,
   "id": "209f3f04-59a0-400e-a0b7-c1d063f57284",
   "metadata": {},
   "outputs": [],
   "source": []
  }
 ],
 "metadata": {
  "kernelspec": {
   "display_name": "Python 3 (ipykernel)",
   "language": "python",
   "name": "python3"
  },
  "language_info": {
   "codemirror_mode": {
    "name": "ipython",
    "version": 3
   },
   "file_extension": ".py",
   "mimetype": "text/x-python",
   "name": "python",
   "nbconvert_exporter": "python",
   "pygments_lexer": "ipython3",
   "version": "3.9.15"
  }
 },
 "nbformat": 4,
 "nbformat_minor": 5
}
